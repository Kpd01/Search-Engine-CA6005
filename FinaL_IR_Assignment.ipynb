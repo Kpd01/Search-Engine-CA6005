{
 "cells": [
  {
   "cell_type": "code",
   "execution_count": 5,
   "id": "d75b5a8d",
   "metadata": {},
   "outputs": [],
   "source": [
    "import sys\n",
    "import numpy as np\n",
    "import string\n",
    "import re\n",
    "import unidecode\n",
    "import pandas as pd\n",
    "from numpy.linalg import norm\n",
    "from sklearn.feature_extraction.text import CountVectorizer"
   ]
  },
  {
   "cell_type": "markdown",
   "id": "2e5af436",
   "metadata": {},
   "source": [
    "# Data Loading"
   ]
  },
  {
   "cell_type": "code",
   "execution_count": 6,
   "id": "abd83d0b",
   "metadata": {},
   "outputs": [],
   "source": [
    "from bs4 import BeautifulSoup\n",
    "\n",
    "def get_data(file, root_needed, tags):\n",
    "    with open(file, 'r') as f:\n",
    "        if root_needed:\n",
    "            data = \"<fake_root>\\n\"\n",
    "            data += f.read()\n",
    "            data += \"\\n</fake_root>\"    \n",
    "            Bs_data = BeautifulSoup(data, \"xml\")\n",
    "        else:\n",
    "            data = f.read()\n",
    "            Bs_data = BeautifulSoup(data, \"xml\")\n",
    "    \n",
    "    result = []\n",
    "    first_tag = tags[0]\n",
    "    output = Bs_data.find_all(first_tag)\n",
    "    for item in output:\n",
    "        sub_list = []\n",
    "        sub_list.append(item.text)\n",
    "        result.append(sub_list)\n",
    "        \n",
    "    \n",
    "    if len(tags) > 1:\n",
    "        master_list = []\n",
    "        len_tags = len(tags)\n",
    "        total_rows = len(result)\n",
    "        \n",
    "        for i in range(1,len_tags):\n",
    "            tag = tags[i]\n",
    "            output = Bs_data.find_all(tag)\n",
    "            idx = 0\n",
    "            for item in output:\n",
    "                result[idx].append(item.text)\n",
    "                idx+=1\n",
    "            \n",
    "        \n",
    "    return result"
   ]
  },
  {
   "cell_type": "markdown",
   "id": "f4e082c9",
   "metadata": {},
   "source": [
    "# Data Preprocessing"
   ]
  },
  {
   "cell_type": "code",
   "execution_count": 7,
   "id": "a0154d6d",
   "metadata": {},
   "outputs": [
    {
     "name": "stderr",
     "output_type": "stream",
     "text": [
      "[nltk_data] Downloading package punkt to /Users/kpmanoj/nltk_data...\n",
      "[nltk_data]   Package punkt is already up-to-date!\n",
      "[nltk_data] Downloading package stopwords to\n",
      "[nltk_data]     /Users/kpmanoj/nltk_data...\n",
      "[nltk_data]   Package stopwords is already up-to-date!\n",
      "[nltk_data] Downloading package wordnet to /Users/kpmanoj/nltk_data...\n",
      "[nltk_data]   Package wordnet is already up-to-date!\n"
     ]
    }
   ],
   "source": [
    "import nltk\n",
    "from nltk.corpus import stopwords\n",
    "from nltk.stem.porter import *\n",
    "nltk.download('punkt')\n",
    "nltk.download('stopwords')\n",
    "nltk.download('wordnet')\n",
    "from nltk.tokenize import word_tokenize\n",
    "from nltk.stem import WordNetLemmatizer\n",
    "from nltk.stem import SnowballStemmer\n",
    "from nltk.corpus import stopwords\n",
    "\n",
    "import re\n",
    "from bs4 import BeautifulSoup\n",
    "\n",
    "\n",
    "def do_pre_process(content:str):\n",
    "    \n",
    "    stemmer = PorterStemmer()\n",
    "    lemmatizer = WordNetLemmatizer()\n",
    "    \n",
    "    \n",
    "    text = BeautifulSoup(content, \"html.parser\").get_text() \n",
    "    text = re.sub(r\"[^a-zA-Z0-9]\", \" \", text.lower())\n",
    "    txt_to_words = word_tokenize(text)\n",
    "    txt_to_words = [word for word in txt_to_words if word not in stopwords.words(\"english\")]\n",
    "    txt_to_words = [lemmatizer.lemmatize(word) for word in txt_to_words]\n",
    "    txt_to_words = [stemmer.stem(word) for word in txt_to_words]\n",
    "    words_to_txt = ' '.join(txt_to_words)\n",
    "                \n",
    "    return words_to_txt"
   ]
  },
  {
   "cell_type": "markdown",
   "id": "cbaf1b3e",
   "metadata": {},
   "source": [
    "# Indexing"
   ]
  },
  {
   "cell_type": "code",
   "execution_count": 8,
   "id": "3f433751",
   "metadata": {},
   "outputs": [],
   "source": [
    "def term_frequency(docs_to_vectorize):\n",
    "    vectorizer = CountVectorizer()\n",
    "    documents_vectorized = vectorizer.fit_transform(docs_to_vectorize).toarray()\n",
    "    vocabulary = vectorizer.get_feature_names()\n",
    "    \n",
    "    term_freq_matrix = pd.DataFrame(documents_vectorized, columns = vocabulary)\n",
    "    return term_freq_matrix\n",
    "\n",
    "def get_tf_idf_vec(term_freq_matrix):\n",
    "    N = term_freq_matrix.shape[0] # Total number of documents.\n",
    "    dfs = (term_freq_matrix > 0).sum(axis = 0) # Count of frequency.\n",
    "    idfs = np.log(N/dfs)\n",
    "    tf_idf_matrix = np.array(term_freq_matrix * idfs) # TF-IDF matrix.\n",
    "    \n",
    "    return tf_idf_matrix, idfs\n",
    "\n",
    "def query_tf(qry_to_vec, doc_vocab, idf):\n",
    "    q_vectorizer = CountVectorizer()\n",
    "    q = q_vectorizer.fit_transform([qry_to_vec]).toarray()\n",
    "    qry_vocabulary = q_vectorizer.get_feature_names()\n",
    "    qry_tf_vector = np.array([])\n",
    "    for item in doc_vocab.columns:\n",
    "        if item in qry_vocabulary:\n",
    "            qry_tf_vector = np.append(qry_tf_vector,1)\n",
    "        else: \n",
    "            qry_tf_vector = np.append(qry_tf_vector,0)\n",
    "            \n",
    "    q_tf_idf_vector = (qry_tf_vector * idf).values\n",
    "    \n",
    "    return q_tf_idf_vector, qry_vocabulary"
   ]
  },
  {
   "cell_type": "markdown",
   "id": "d5fef8f7",
   "metadata": {},
   "source": [
    "# IR Modelling (VSM, BM25)"
   ]
  },
  {
   "cell_type": "code",
   "execution_count": 9,
   "id": "cea5a17a",
   "metadata": {},
   "outputs": [],
   "source": [
    "def cosine_sim(x, y):\n",
    "    cos_sim = np.dot(x, y)/(np.linalg.norm(x)*np.linalg.norm(y))\n",
    "    return cos_sim\n",
    "\n",
    "def VSM(q_tf_idf_vect, doc_tf_idf_matrix):\n",
    "    VSM_scores = []\n",
    "    for d in doc_tf_idf_matrix:\n",
    "        VSM_scores.append(cosine_sim(d, q_tf_idf_vect))\n",
    "    return VSM_scores\n",
    "\n",
    "\n",
    "def BM25_matrix_fn(BM25_matrix, q_vocabulary):\n",
    "    q_vocabulary_in_docs = [term for term in q_vocabulary   \n",
    "                            if term in BM25_matrix.columns] \n",
    "    BM25_scores = BM25_matrix[q_vocabulary_in_docs].sum(axis = 1)\n",
    "\n",
    "    return BM25_scores\n",
    "\n",
    "def BM25(k1, b, term_freq_matrix,idfs,q_vocabulary):\n",
    "    dl = term_freq_matrix.sum(axis=1).tolist() # Document length.\n",
    "    avgdl = np.mean(dl) # Mean document length.\n",
    "    N = term_freq_matrix.shape[0]\n",
    "\n",
    "    # Applying the BM25 formula:\n",
    "    numerator = np.array(term_freq_matrix * (k1 + 1))\n",
    "    denominator = np.array(term_freq_matrix) \\\n",
    "                  + np.array(k1 * ((1 - b) + (b * (dl / avgdl)))).reshape(N,1)\n",
    "    BM25_matrix = (numerator / denominator) * np.array(idfs)\n",
    "    BM25_matrix = pd.DataFrame(BM25_matrix, columns = term_freq_matrix.columns)\n",
    "    \n",
    "    scores = BM25_matrix_fn(BM25_matrix, q_vocabulary)\n",
    "    return scores\n",
    "    \n",
    "def write_file(path:str, ranked_list:list):\n",
    "    \n",
    "    with open(path, 'w') as fp:\n",
    "        for item in ranked_list:\n",
    "            for ele in item:\n",
    "                fp.write(f\"{ele}\\t\")\n",
    "            fp.write(\"\\n\")\n",
    "\n",
    "    fp.close()\n",
    "    \n",
    "    return\n"
   ]
  },
  {
   "cell_type": "markdown",
   "id": "57221a47",
   "metadata": {},
   "source": [
    "# Ranking"
   ]
  },
  {
   "cell_type": "code",
   "execution_count": 10,
   "id": "7240eae0",
   "metadata": {},
   "outputs": [],
   "source": [
    "def search_engine(docs:list, \n",
    "           qrys:list, \n",
    "           model:str=\"VSM\", \n",
    "           top_n:int=10):\n",
    "    def sort(results:list):\n",
    "        return(sorted(results, key = lambda x: x[3], reverse=True))  \n",
    "    \n",
    "    doc_texts = [do_pre_process(doc[2]) for doc in docs]\n",
    "    qry_texts = [do_pre_process(qry[1]) for qry in qrys]\n",
    "    \n",
    "    doc_ids = [int(doc[0]) for doc in docs]\n",
    "    qry_ids = [int(qry[0]) for qry in qrys]\n",
    "    \n",
    "    doc_to_vec = term_frequency(doc_texts)\n",
    "    doc_tf_idf_mrx, idf = get_tf_idf_vec(doc_to_vec)\n",
    "    \n",
    "    shape_of_df = (len(doc_to_vec.index), len(doc_to_vec.columns))\n",
    "    \n",
    "    assert shape_of_df == doc_tf_idf_mrx.shape\n",
    "    \n",
    "    doc_info_ranked = []\n",
    "    iteration = 0\n",
    " \n",
    "    for i in range(len(qry_ids)):\n",
    "        qry_id = qry_ids[i]\n",
    "        qry_text = qry_texts[i]\n",
    "        \n",
    "        q_tf_idf_vec, q_voc = query_tf(qry_text, doc_to_vec, idf)\n",
    "        \n",
    "        if model == \"VSM\":\n",
    "            scores = VSM(q_tf_idf_vec, doc_tf_idf_mrx)\n",
    "        if model == \"BM25\":\n",
    "            scores = BM25(2, 0.75, doc_to_vec,idf,q_voc) # Values for parameters k and b are chosen based on recommendations in lecture materals\n",
    "            \n",
    "        run_id = 0\n",
    "        sub_list = []\n",
    "        for (d,n,s) in zip(doc_texts, range(len(doc_ids)), scores):\n",
    "            iteration+=1\n",
    "            run_id += 1\n",
    "            sub_list.append([qry_id, iteration, doc_ids[n], scores[n], run_id])\n",
    "\n",
    "        sorted_list = sort(sub_list)\n",
    "        sorted_list = sorted_list[:(top_n)]\n",
    "\n",
    "        sorted_list1 = []\n",
    "        rank = 1\n",
    "        for i in range(top_n):\n",
    "\n",
    "            item = sorted_list[i]\n",
    "            item.insert(3,rank)\n",
    "            rank+=1\n",
    "            sorted_list1.append(item)\n",
    "\n",
    "        for item in sorted_list1:\n",
    "            doc_info_ranked.append(item)\n",
    "            \n",
    "    doc_to_print = doc_info_ranked[:10]\n",
    "        \n",
    "    print(\"Sample txt file to print\")\n",
    "    print(f'QID\\t<iter>\\tDocID\\t<rank>\\t{model}Score\\t\\t<run_id>')\n",
    "        \n",
    "    for item in doc_to_print:\n",
    "        list_to_print = [str(w) for w in item]\n",
    "        print('\\t'.join(list_to_print))\n",
    "             \n",
    "    return doc_info_ranked"
   ]
  },
  {
   "cell_type": "code",
   "execution_count": 11,
   "id": "1d9db476",
   "metadata": {},
   "outputs": [
    {
     "name": "stderr",
     "output_type": "stream",
     "text": [
      "<ipython-input-9-cfd3f4c02c39>:2: RuntimeWarning: invalid value encountered in double_scalars\n",
      "  cos_sim = np.dot(x, y)/(np.linalg.norm(x)*np.linalg.norm(y))\n"
     ]
    },
    {
     "name": "stdout",
     "output_type": "stream",
     "text": [
      "Sample txt file to print\n",
      "QID\t<iter>\tDocID\t<rank>\tVSMScore\t\t<run_id>\n",
      "1\t51\t51\t1\t0.2732997203987599\t51\n",
      "1\t184\t184\t2\t0.2423519383135303\t184\n",
      "1\t12\t12\t3\t0.2199770970786302\t12\n",
      "1\t359\t359\t4\t0.19718798836720966\t359\n",
      "1\t746\t746\t5\t0.18877604723401475\t746\n",
      "1\t56\t56\t6\t0.16338803624451917\t56\n",
      "1\t665\t665\t7\t0.15879099094312427\t665\n",
      "1\t13\t13\t8\t0.14432588580353264\t13\n",
      "1\t435\t435\t9\t0.13223795298404534\t435\n",
      "1\t486\t486\t10\t0.13068845916810296\t486\n",
      "Sample txt file to print\n",
      "QID\t<iter>\tDocID\t<rank>\tBM25Score\t\t<run_id>\n",
      "1\t51\t51\t1\t25.05507180936116\t51\n",
      "1\t486\t486\t2\t21.98695817024441\t486\n",
      "1\t12\t12\t3\t20.72787817315684\t12\n",
      "1\t184\t184\t4\t19.242587466122195\t184\n",
      "1\t878\t878\t5\t18.257708416426983\t878\n",
      "1\t573\t573\t6\t16.77241514110718\t573\n",
      "1\t665\t665\t7\t14.923395093430525\t665\n",
      "1\t746\t746\t8\t13.7557520390895\t746\n",
      "1\t944\t944\t9\t13.462667853243094\t944\n",
      "1\t141\t141\t10\t13.353771708377367\t141\n"
     ]
    }
   ],
   "source": [
    "import os\n",
    "\n",
    "def main():\n",
    "    \n",
    "    Vsm_file_name = \"ResultsVSM.txt\"\n",
    "    bm25_file_name = \"ResultsBM25.txt\"\n",
    "    curr_dir_path = os.getcwd()\n",
    "    final_path_vsm = os.path.join(curr_dir_path, Vsm_file_name)\n",
    "    final_path_bm25 = os.path.join(curr_dir_path, bm25_file_name)\n",
    "    \n",
    "    documents = get_data('cran.all.1400.xml', 1 , ['docno','title','text'])\n",
    "    queries = get_data('cran.qry.xml',0, ['num','title'])\n",
    "    \n",
    "    results_vsm = search_engine(documents, queries, \"VSM\", 100)\n",
    "    results_bm25 = search_engine(documents, queries, \"BM25\", 100)\n",
    "    \n",
    "    write_file(final_path_vsm, results_vsm)\n",
    "    write_file(final_path_bm25, results_bm25)\n",
    "    \n",
    "main()"
   ]
  },
  {
   "cell_type": "markdown",
   "id": "b99ef067",
   "metadata": {},
   "source": [
    "# Evaluation (data visualization)"
   ]
  },
  {
   "cell_type": "code",
   "execution_count": 12,
   "id": "376b1f9a",
   "metadata": {},
   "outputs": [
    {
     "data": {
      "image/png": "[encoded data removed]",
      "text/plain": [
       "<Figure size 432x288 with 1 Axes>"
      ]
     },
     "metadata": {
      "needs_background": "light"
     },
     "output_type": "display_data"
    }
   ],
   "source": [
    "import numpy as np\n",
    "import matplotlib.pyplot as plt\n",
    "# Values retrived from running dyn_eval on the VSM results and BM25 results\n",
    "X = ['MAP','nDCG','P_5']\n",
    "VSM_data = [0.0050,0.0216,0.0089] \n",
    "BM25_data = [0.0050,0.0239,0.0053]\n",
    "\n",
    "X_axis = np.arange(len(X))\n",
    "\n",
    "plt.bar(X_axis - 0.2, VSM_data, 0.4, label = 'VSM')\n",
    "plt.bar(X_axis + 0.2, BM25_data, 0.4, label = 'BM25')\n",
    "\n",
    "plt.xticks(X_axis, X)\n",
    "\n",
    "plt.title(\"Evaluation metrics comparison VSM Vs BM25\")\n",
    "plt.legend()\n",
    "plt.show()\n"
   ]
  },
  {
   "cell_type": "code",
   "execution_count": null,
   "id": "064044d1",
   "metadata": {},
   "outputs": [],
   "source": []
  }
 ],
 "metadata": {
  "kernelspec": {
   "display_name": "Python 3",
   "language": "python",
   "name": "python3"
  },
  "language_info": {
   "codemirror_mode": {
    "name": "ipython",
    "version": 3
   },
   "file_extension": ".py",
   "mimetype": "text/x-python",
   "name": "python",
   "nbconvert_exporter": "python",
   "pygments_lexer": "ipython3",
   "version": "3.8.8"
  }
 },
 "nbformat": 4,
 "nbformat_minor": 5
}
